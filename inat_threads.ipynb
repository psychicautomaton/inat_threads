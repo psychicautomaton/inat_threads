{
 "cells": [
  {
   "cell_type": "code",
   "execution_count": null,
   "metadata": {},
   "outputs": [],
   "source": [
    "import ipykernel\n",
    "import pyinaturalist as inat\n",
    "import pandas as pd\n",
    "import seaborn as sns\n",
    "\n"
   ]
  },
  {
   "cell_type": "code",
   "execution_count": null,
   "metadata": {},
   "outputs": [],
   "source": [
    "observations1 = inat.get_observations(user_login='umusings', \n",
    "                                     d2 = '2025-03-30',\n",
    "                                     per_page=100,\n",
    "                                     place_guess = \"New York\",\n",
    "                                     mappable = True)\n",
    "\n",
    "\n",
    "df_obs = pd.DataFrame(observations1[\"results\"])\n",
    "df_obs\n",
    "\n"
   ]
  },
  {
   "cell_type": "code",
   "execution_count": null,
   "metadata": {},
   "outputs": [],
   "source": [
    "observations2 = inat.get_observations(user_login='umusings', \n",
    "                                     d2 = '2024-11-16',\n",
    "                                     per_page=100,\n",
    "                                     place_guess = \"New York\",\n",
    "                                     mappable = True)\n",
    "df_obs2 = pd.DataFrame(observations2[\"results\"])\n",
    "df_obs = pd.concat([df_obs, df_obs2], axis=0)"
   ]
  },
  {
   "cell_type": "code",
   "execution_count": null,
   "metadata": {},
   "outputs": [],
   "source": [
    "observations3 = inat.get_observations(user_login='umusings', \n",
    "                                     d2 = '2024-10-09',\n",
    "                                     per_page=100,\n",
    "                                     place_guess = \"New York\",\n",
    "                                     mappable = True)\n",
    "df_obs3 = pd.DataFrame(observations3[\"results\"])\n",
    "df_obs = pd.concat([df_obs, df_obs3], axis=0)\n",
    "df_obs"
   ]
  },
  {
   "cell_type": "code",
   "execution_count": null,
   "metadata": {},
   "outputs": [],
   "source": [
    "observations4 = inat.get_observations(user_login='umusings', \n",
    "                                     d2 = '2024-09-17',\n",
    "                                     per_page=100,\n",
    "                                     place_guess = \"New York\",\n",
    "                                     mappable = True)\n",
    "df_obs4 = pd.DataFrame(observations4[\"results\"])\n",
    "df_obs = pd.concat([df_obs, df_obs4], axis=0)\n",
    "df_obs"
   ]
  },
  {
   "cell_type": "code",
   "execution_count": null,
   "metadata": {},
   "outputs": [],
   "source": [
    "observations5 = inat.get_observations(user_login='umusings', \n",
    "                                     d2 = '2024-06-21',\n",
    "                                     per_page=100,\n",
    "                                     place_guess = \"New York\",\n",
    "                                     mappable = True)\n",
    "df_obs5 = pd.DataFrame(observations5[\"results\"])\n",
    "df_obs = pd.concat([df_obs, df_obs5], axis=0)\n",
    "df_obs"
   ]
  },
  {
   "cell_type": "code",
   "execution_count": null,
   "metadata": {},
   "outputs": [],
   "source": [
    "observations6 = inat.get_observations(user_login='umusings', \n",
    "                                     d2 = '2024-05-30',\n",
    "                                     per_page=100,\n",
    "                                     place_guess = \"New York\",\n",
    "                                     mappable = True)\n",
    "df_obs6 = pd.DataFrame(observations6[\"results\"])\n",
    "df_obs = pd.concat([df_obs, df_obs6], axis=0)\n",
    "df_obs"
   ]
  },
  {
   "cell_type": "code",
   "execution_count": null,
   "metadata": {},
   "outputs": [],
   "source": [
    "df_obs_cleaned = df_obs[[\"quality_grade\",\n",
    "                        \"id\",\n",
    "                        \"species_guess\",\n",
    "                        \"positional_accuracy\",\n",
    "                        \"created_at\",\n",
    "                        \"observed_on\",\n",
    "                        \"place_ids\",\n",
    "                        \"geojson\",\n",
    "                        \"taxon\",\n",
    "                        \"num_identification_disagreements\",\n",
    "                        \"location\",\n",
    "                        \"user\",\n",
    "                        \"place_guess\"\n",
    "                        ]]"
   ]
  },
  {
   "cell_type": "code",
   "execution_count": null,
   "metadata": {},
   "outputs": [],
   "source": [
    "df_obs_cleaned[\"latitude\"] = [item[0] for item in df_obs_cleaned[\"location\"]]\n",
    "df_obs_cleaned[\"longitude\"] = [item[1] for item in df_obs_cleaned[\"location\"]]\n",
    "df_obs_cleaned = df_obs_cleaned.loc[df_obs_cleaned[\"place_guess\"] == \"New York\",:]\n",
    "df_obs_cleaned = df_obs_cleaned.reset_index(drop=True)\n"
   ]
  },
  {
   "cell_type": "code",
   "execution_count": null,
   "metadata": {},
   "outputs": [],
   "source": [
    "df_obs_cleaned[\"login\"] = [d.get('login') for d in df_obs_cleaned[\"user\"]]"
   ]
  },
  {
   "cell_type": "code",
   "execution_count": null,
   "metadata": {},
   "outputs": [],
   "source": [
    "df_obs_cleaned"
   ]
  },
  {
   "cell_type": "code",
   "execution_count": null,
   "metadata": {},
   "outputs": [],
   "source": [
    "sns.set_theme(rc={'figure.figsize':(40, 24)})\n",
    "sns.set_style(\"white\")\n"
   ]
  },
  {
   "cell_type": "code",
   "execution_count": null,
   "metadata": {},
   "outputs": [],
   "source": [
    "g = sns.scatterplot(data=df_obs_cleaned,\n",
    "                x = \"latitude\",\n",
    "                y = \"longitude\",\n",
    "                hue=\"login\",\n",
    "                palette=\"viridis\",\n",
    "                s = 20,\n",
    "                alpha =.8)\n",
    "#g.xticks([]) #Removes x axis ticks\n",
    "#g.yticks([])\n",
    "g.axis(\"off\")"
   ]
  },
  {
   "cell_type": "code",
   "execution_count": null,
   "metadata": {},
   "outputs": [],
   "source": [
    "##grabproximate"
   ]
  }
 ],
 "metadata": {
  "kernelspec": {
   "display_name": "Python 3",
   "language": "python",
   "name": "python3"
  },
  "language_info": {
   "codemirror_mode": {
    "name": "ipython",
    "version": 3
   },
   "file_extension": ".py",
   "mimetype": "text/x-python",
   "name": "python",
   "nbconvert_exporter": "python",
   "pygments_lexer": "ipython3",
   "version": "3.12.8"
  }
 },
 "nbformat": 4,
 "nbformat_minor": 2
}
